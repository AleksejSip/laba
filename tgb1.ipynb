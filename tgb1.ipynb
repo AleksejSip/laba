{
  "nbformat": 4,
  "nbformat_minor": 0,
  "metadata": {
    "colab": {
      "provenance": [],
      "authorship_tag": "ABX9TyPklotuFFpdnIz1PfOMiDfn",
      "include_colab_link": true
    },
    "kernelspec": {
      "name": "python3",
      "display_name": "Python 3"
    },
    "language_info": {
      "name": "python"
    }
  },
  "cells": [
    {
      "cell_type": "markdown",
      "metadata": {
        "id": "view-in-github",
        "colab_type": "text"
      },
      "source": [
        "<a href=\"https://colab.research.google.com/github/AleksejSip/laba/blob/main/tgb1.ipynb\" target=\"_parent\"><img src=\"https://colab.research.google.com/assets/colab-badge.svg\" alt=\"Open In Colab\"/></a>"
      ]
    },
    {
      "cell_type": "code",
      "source": [
        "import random\n",
        "\n",
        "class Dog:\n",
        "    def __init__(self):\n",
        "        self.state = \"Стоит\"  # Начальное состояние\n",
        "        self.reward_count = 0  # Количество полученных наград\n",
        "\n",
        "    def sit(self):\n",
        "        \"\"\"Собака выполняет команду 'Сидеть'.\"\"\"\n",
        "        self.state = \"Сидит\"\n",
        "        return True  # Команда выполнена\n",
        "\n",
        "    def ignore_command(self):\n",
        "        \"\"\"Собака игнорирует команду.\"\"\"\n",
        "        self.state = \"Стоит\"\n",
        "        return False  # Команда не выполнена\n",
        "\n",
        "    def get_reward(self):\n",
        "        self.reward_count += 1\n",
        "        print(\"Получено лакомство! Всего наград:\", self.reward_count)\n",
        "\n",
        "    def get_negative_feedback(self):\n",
        "        \"\"\"Получение отрицательной обратной связи.\"\"\"\n",
        "        print( \" Нет, не так! Попробуй снова.\")\n",
        "\n",
        "# Симуляция обучения собаки\n",
        "dog = Dog()\n",
        "\n",
        "# Повторяем процесс обучения\n",
        "for _ in range(10):\n",
        "    action = random.choice([\"sit\", \"ignore\"])  # Случайно выбираем действие собаки\n",
        "    print(f\"Собака пытается: {action}\")\n",
        "\n",
        "    if action == \"sit\":\n",
        "        if dog.sit():  # Если собака выполняет команду\n",
        "            dog.get_reward()\n",
        "        else:\n",
        "            dog.get_negative_feedback()\n",
        "    else:\n",
        "        if dog.ignore_command():  # Если собака игнорирует команду\n",
        "            dog.get_negative_feedback()\n",
        "        else:\n",
        "            print(\"Собака осталась сидеть.\")\n",
        "\n",
        "print(\"Обучение завершено.\")"
      ],
      "metadata": {
        "colab": {
          "base_uri": "https://localhost:8080/"
        },
        "id": "DHoWJnMEC0MY",
        "outputId": "da6b355f-60b9-4480-dd83-39c5bc7e6d49"
      },
      "execution_count": 28,
      "outputs": [
        {
          "output_type": "stream",
          "name": "stdout",
          "text": [
            "Собака пытается: ignore\n",
            "Собака осталась сидеть.\n",
            "Собака пытается: ignore\n",
            "Собака осталась сидеть.\n",
            "Собака пытается: sit\n",
            "Получено лакомство! Всего наград: 1\n",
            "Собака пытается: ignore\n",
            "Собака осталась сидеть.\n",
            "Собака пытается: sit\n",
            "Получено лакомство! Всего наград: 2\n",
            "Собака пытается: sit\n",
            "Получено лакомство! Всего наград: 3\n",
            "Собака пытается: sit\n",
            "Получено лакомство! Всего наград: 4\n",
            "Собака пытается: sit\n",
            "Получено лакомство! Всего наград: 5\n",
            "Собака пытается: ignore\n",
            "Собака осталась сидеть.\n",
            "Собака пытается: sit\n",
            "Получено лакомство! Всего наград: 6\n",
            "Обучение завершено.\n"
          ]
        }
      ]
    }
  ]
}