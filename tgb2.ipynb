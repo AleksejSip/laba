{
  "nbformat": 4,
  "nbformat_minor": 0,
  "metadata": {
    "colab": {
      "provenance": [],
      "authorship_tag": "ABX9TyOJNV+xKo/KodWpf3zwI+O8",
      "include_colab_link": true
    },
    "kernelspec": {
      "name": "python3",
      "display_name": "Python 3"
    },
    "language_info": {
      "name": "python"
    }
  },
  "cells": [
    {
      "cell_type": "markdown",
      "metadata": {
        "id": "view-in-github",
        "colab_type": "text"
      },
      "source": [
        "<a href=\"https://colab.research.google.com/github/AleksejSip/laba/blob/main/tgb2.ipynb\" target=\"_parent\"><img src=\"https://colab.research.google.com/assets/colab-badge.svg\" alt=\"Open In Colab\"/></a>"
      ]
    },
    {
      "cell_type": "code",
      "execution_count": 1,
      "metadata": {
        "id": "r1HaKNMmS3dr",
        "colab": {
          "base_uri": "https://localhost:8080/"
        },
        "outputId": "0e78dcd2-948b-4ce4-f5c9-80952c35a4a3"
      },
      "outputs": [
        {
          "output_type": "stream",
          "name": "stdout",
          "text": [
            "Итерация 1: x = 0.6000, f(x) = 5.7600\n",
            "Итерация 2: x = 1.0800, f(x) = 3.6864\n",
            "Итерация 3: x = 1.4640, f(x) = 2.3593\n",
            "Итерация 4: x = 1.7712, f(x) = 1.5099\n",
            "Итерация 5: x = 2.0170, f(x) = 0.9664\n",
            "Итерация 6: x = 2.2136, f(x) = 0.6185\n",
            "Итерация 7: x = 2.3709, f(x) = 0.3958\n",
            "Итерация 8: x = 2.4967, f(x) = 0.2533\n",
            "Итерация 9: x = 2.5973, f(x) = 0.1621\n",
            "Итерация 10: x = 2.6779, f(x) = 0.1038\n",
            "Итерация 11: x = 2.7423, f(x) = 0.0664\n",
            "Итерация 12: x = 2.7938, f(x) = 0.0425\n",
            "Итерация 13: x = 2.8351, f(x) = 0.0272\n",
            "Итерация 14: x = 2.8681, f(x) = 0.0174\n",
            "Итерация 15: x = 2.8944, f(x) = 0.0111\n",
            "Итерация 16: x = 2.9156, f(x) = 0.0071\n",
            "Итерация 17: x = 2.9324, f(x) = 0.0046\n",
            "Итерация 18: x = 2.9460, f(x) = 0.0029\n",
            "Итерация 19: x = 2.9568, f(x) = 0.0019\n",
            "Итерация 20: x = 2.9654, f(x) = 0.0012\n",
            "Минимум функции приблизительно достигается при x = 2.9654\n"
          ]
        }
      ],
      "source": [
        "import numpy as np\n",
        "#Функция минимизации\n",
        "\n",
        "def f(x):\n",
        "    return (x - 3) ** 2\n",
        "\n",
        "# Производная функции\n",
        "def df(x):\n",
        "    return 2 * (x - 3)\n",
        "\n",
        "# Параметры градиентного спуска\n",
        "learning_rate = 0.1  # Скорость обучения\n",
        "x = 0  # Начальная точка\n",
        "\n",
        "# Количество итераций\n",
        "iterations = 20\n",
        "\n",
        "# Запускаем градиентного спуска\n",
        "for i in range(iterations):\n",
        "    gradient = df(x)  # Находим градиент\n",
        "    x = x - learning_rate * gradient  # Обновление значение x\n",
        "    print(f\"Итерация {i + 1}: x = {x:.4f}, f(x) = {f(x):.4f}\")\n",
        "\n",
        "print(f\"Минимум функции приблизительно достигается при x = {x:.4f}\")"
      ]
    }
  ]
}