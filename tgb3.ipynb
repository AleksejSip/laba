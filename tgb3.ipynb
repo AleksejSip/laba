{
  "nbformat": 4,
  "nbformat_minor": 0,
  "metadata": {
    "colab": {
      "provenance": [],
      "authorship_tag": "ABX9TyNi7zjKNer9TFfYTGf+sOWH",
      "include_colab_link": true
    },
    "kernelspec": {
      "name": "python3",
      "display_name": "Python 3"
    },
    "language_info": {
      "name": "python"
    }
  },
  "cells": [
    {
      "cell_type": "markdown",
      "metadata": {
        "id": "view-in-github",
        "colab_type": "text"
      },
      "source": [
        "<a href=\"https://colab.research.google.com/github/AleksejSip/laba/blob/main/tgb3.ipynb\" target=\"_parent\"><img src=\"https://colab.research.google.com/assets/colab-badge.svg\" alt=\"Open In Colab\"/></a>"
      ]
    },
    {
      "cell_type": "markdown",
      "source": [
        "Бблиотека"
      ],
      "metadata": {
        "id": "V5531XsAbwWX"
      }
    },
    {
      "cell_type": "code",
      "execution_count": 19,
      "metadata": {
        "id": "WmlMuf_7ZWVv"
      },
      "outputs": [],
      "source": [
        "import numpy as np\n",
        "\n",
        "from tensorflow.keras.datasets import fashion_mnist\n",
        "from tensorflow.keras.models import Sequential\n",
        "from tensorflow.keras.layers import Dense\n",
        "from tensorflow.keras.utils import to_categorical"
      ]
    },
    {
      "cell_type": "markdown",
      "source": [
        "ДАнные"
      ],
      "metadata": {
        "id": "5rkkkaUGb1Gm"
      }
    },
    {
      "cell_type": "code",
      "source": [
        "(x_train, y_train), (x_test, y_test) = fashion_mnist.load_data()"
      ],
      "metadata": {
        "colab": {
          "base_uri": "https://localhost:8080/"
        },
        "id": "iHPQuqtUUmE4",
        "outputId": "07f3ce70-0c6d-4c39-f891-f7a23b98e6bd"
      },
      "execution_count": 20,
      "outputs": [
        {
          "output_type": "stream",
          "name": "stdout",
          "text": [
            "Downloading data from https://storage.googleapis.com/tensorflow/tf-keras-datasets/train-labels-idx1-ubyte.gz\n",
            "\u001b[1m29515/29515\u001b[0m \u001b[32m━━━━━━━━━━━━━━━━━━━━\u001b[0m\u001b[37m\u001b[0m \u001b[1m0s\u001b[0m 0us/step\n",
            "Downloading data from https://storage.googleapis.com/tensorflow/tf-keras-datasets/train-images-idx3-ubyte.gz\n",
            "\u001b[1m26421880/26421880\u001b[0m \u001b[32m━━━━━━━━━━━━━━━━━━━━\u001b[0m\u001b[37m\u001b[0m \u001b[1m0s\u001b[0m 0us/step\n",
            "Downloading data from https://storage.googleapis.com/tensorflow/tf-keras-datasets/t10k-labels-idx1-ubyte.gz\n",
            "\u001b[1m5148/5148\u001b[0m \u001b[32m━━━━━━━━━━━━━━━━━━━━\u001b[0m\u001b[37m\u001b[0m \u001b[1m0s\u001b[0m 0us/step\n",
            "Downloading data from https://storage.googleapis.com/tensorflow/tf-keras-datasets/t10k-images-idx3-ubyte.gz\n",
            "\u001b[1m4422102/4422102\u001b[0m \u001b[32m━━━━━━━━━━━━━━━━━━━━\u001b[0m\u001b[37m\u001b[0m \u001b[1m0s\u001b[0m 0us/step\n"
          ]
        }
      ]
    },
    {
      "cell_type": "markdown",
      "source": [
        "Преобразование"
      ],
      "metadata": {
        "id": "QpRNQutTb7LO"
      }
    },
    {
      "cell_type": "code",
      "source": [
        "x_train = x_train.reshape(x_train.shape[0], -1) / 255.0\n",
        "x_test = x_test.reshape(x_test.shape[0], -1) / 255.0\n",
        "y_train = to_categorical(y_train)\n",
        "y_test = to_categorical(y_test)"
      ],
      "metadata": {
        "id": "4xrMR_OFal0m"
      },
      "execution_count": 21,
      "outputs": []
    },
    {
      "cell_type": "markdown",
      "source": [
        "Первая архитектура"
      ],
      "metadata": {
        "id": "JbUjkjM1a1So"
      }
    },
    {
      "cell_type": "code",
      "source": [
        "model = Sequential()\n",
        "model.add(Dense(10, input_dim=784, activation='relu'))\n",
        "model.add(Dense(10, activation='softmax'))\n",
        "model.compile(loss='categorical_crossentropy', optimizer='adam',\n",
        "metrics=['accuracy'])"
      ],
      "metadata": {
        "id": "L0ppiP8KayTV",
        "colab": {
          "base_uri": "https://localhost:8080/"
        },
        "outputId": "c0a23d02-edd0-42ae-b205-15c6b038d7bd"
      },
      "execution_count": 22,
      "outputs": [
        {
          "output_type": "stream",
          "name": "stderr",
          "text": [
            "/usr/local/lib/python3.11/dist-packages/keras/src/layers/core/dense.py:87: UserWarning: Do not pass an `input_shape`/`input_dim` argument to a layer. When using Sequential models, prefer using an `Input(shape)` object as the first layer in the model instead.\n",
            "  super().__init__(activity_regularizer=activity_regularizer, **kwargs)\n"
          ]
        }
      ]
    },
    {
      "cell_type": "markdown",
      "source": [
        "Обучение"
      ],
      "metadata": {
        "id": "0wqHYdNBbBU7"
      }
    },
    {
      "cell_type": "code",
      "source": [
        "model.fit(x_train, y_train, epochs=10, validation_split=0.1)"
      ],
      "metadata": {
        "colab": {
          "base_uri": "https://localhost:8080/"
        },
        "id": "XS48WLRLbJ1r",
        "outputId": "3ab4b337-ca3f-4d54-dc09-39b3e3fd36ec"
      },
      "execution_count": 23,
      "outputs": [
        {
          "output_type": "stream",
          "name": "stdout",
          "text": [
            "Epoch 1/10\n",
            "\u001b[1m1688/1688\u001b[0m \u001b[32m━━━━━━━━━━━━━━━━━━━━\u001b[0m\u001b[37m\u001b[0m \u001b[1m6s\u001b[0m 3ms/step - accuracy: 0.6539 - loss: 0.9939 - val_accuracy: 0.8330 - val_loss: 0.4896\n",
            "Epoch 2/10\n",
            "\u001b[1m1688/1688\u001b[0m \u001b[32m━━━━━━━━━━━━━━━━━━━━\u001b[0m\u001b[37m\u001b[0m \u001b[1m5s\u001b[0m 3ms/step - accuracy: 0.8351 - loss: 0.4832 - val_accuracy: 0.8430 - val_loss: 0.4471\n",
            "Epoch 3/10\n",
            "\u001b[1m1688/1688\u001b[0m \u001b[32m━━━━━━━━━━━━━━━━━━━━\u001b[0m\u001b[37m\u001b[0m \u001b[1m4s\u001b[0m 2ms/step - accuracy: 0.8446 - loss: 0.4485 - val_accuracy: 0.8475 - val_loss: 0.4384\n",
            "Epoch 4/10\n",
            "\u001b[1m1688/1688\u001b[0m \u001b[32m━━━━━━━━━━━━━━━━━━━━\u001b[0m\u001b[37m\u001b[0m \u001b[1m4s\u001b[0m 2ms/step - accuracy: 0.8504 - loss: 0.4295 - val_accuracy: 0.8393 - val_loss: 0.4583\n",
            "Epoch 5/10\n",
            "\u001b[1m1688/1688\u001b[0m \u001b[32m━━━━━━━━━━━━━━━━━━━━\u001b[0m\u001b[37m\u001b[0m \u001b[1m6s\u001b[0m 3ms/step - accuracy: 0.8533 - loss: 0.4143 - val_accuracy: 0.8488 - val_loss: 0.4381\n",
            "Epoch 6/10\n",
            "\u001b[1m1688/1688\u001b[0m \u001b[32m━━━━━━━━━━━━━━━━━━━━\u001b[0m\u001b[37m\u001b[0m \u001b[1m5s\u001b[0m 3ms/step - accuracy: 0.8563 - loss: 0.4092 - val_accuracy: 0.8353 - val_loss: 0.4768\n",
            "Epoch 7/10\n",
            "\u001b[1m1688/1688\u001b[0m \u001b[32m━━━━━━━━━━━━━━━━━━━━\u001b[0m\u001b[37m\u001b[0m \u001b[1m5s\u001b[0m 3ms/step - accuracy: 0.8592 - loss: 0.4001 - val_accuracy: 0.8602 - val_loss: 0.4097\n",
            "Epoch 8/10\n",
            "\u001b[1m1688/1688\u001b[0m \u001b[32m━━━━━━━━━━━━━━━━━━━━\u001b[0m\u001b[37m\u001b[0m \u001b[1m4s\u001b[0m 2ms/step - accuracy: 0.8604 - loss: 0.3999 - val_accuracy: 0.8577 - val_loss: 0.4144\n",
            "Epoch 9/10\n",
            "\u001b[1m1688/1688\u001b[0m \u001b[32m━━━━━━━━━━━━━━━━━━━━\u001b[0m\u001b[37m\u001b[0m \u001b[1m4s\u001b[0m 3ms/step - accuracy: 0.8626 - loss: 0.3901 - val_accuracy: 0.8550 - val_loss: 0.4183\n",
            "Epoch 10/10\n",
            "\u001b[1m1688/1688\u001b[0m \u001b[32m━━━━━━━━━━━━━━━━━━━━\u001b[0m\u001b[37m\u001b[0m \u001b[1m6s\u001b[0m 3ms/step - accuracy: 0.8643 - loss: 0.3853 - val_accuracy: 0.8607 - val_loss: 0.4055\n"
          ]
        },
        {
          "output_type": "execute_result",
          "data": {
            "text/plain": [
              "<keras.src.callbacks.history.History at 0x7ebb8a008590>"
            ]
          },
          "metadata": {},
          "execution_count": 23
        }
      ]
    },
    {
      "cell_type": "markdown",
      "source": [
        " Результат тестовых данных"
      ],
      "metadata": {
        "id": "hFuNNhIocIW0"
      }
    },
    {
      "cell_type": "code",
      "source": [
        "test_acc = model.evaluate(x_test, y_test)\n",
        "print(test_acc)\n"
      ],
      "metadata": {
        "colab": {
          "base_uri": "https://localhost:8080/"
        },
        "id": "OuUweRRzcQWo",
        "outputId": "6ad74275-8abe-4221-8665-221fb979f3e0"
      },
      "execution_count": 24,
      "outputs": [
        {
          "output_type": "stream",
          "name": "stdout",
          "text": [
            "\u001b[1m313/313\u001b[0m \u001b[32m━━━━━━━━━━━━━━━━━━━━\u001b[0m\u001b[37m\u001b[0m \u001b[1m1s\u001b[0m 2ms/step - accuracy: 0.8501 - loss: 0.4259\n",
            "[0.4375399947166443, 0.8442000150680542]\n"
          ]
        }
      ]
    },
    {
      "cell_type": "markdown",
      "source": [
        "Вторая архитектура"
      ],
      "metadata": {
        "id": "aEiGHrLNfDNq"
      }
    },
    {
      "cell_type": "code",
      "source": [
        "model2 = Sequential()\n",
        "model2.add(Dense( 50, input_dim=784, activation='relu'))\n",
        "model2.add(Dense(10, activation='softmax'))\n",
        "model2.compile(loss='categorical_crossentropy', optimizer='adam',\n",
        "metrics=['accuracy'])\n",
        "model2.fit(x_train, y_train, epochs=10, validation_split=0.1)"
      ],
      "metadata": {
        "colab": {
          "base_uri": "https://localhost:8080/"
        },
        "id": "nxW7HWE7fPV9",
        "outputId": "9401256b-9375-4ca2-befb-078eb479cb1f"
      },
      "execution_count": 25,
      "outputs": [
        {
          "output_type": "stream",
          "name": "stdout",
          "text": [
            "Epoch 1/10\n",
            "\u001b[1m1688/1688\u001b[0m \u001b[32m━━━━━━━━━━━━━━━━━━━━\u001b[0m\u001b[37m\u001b[0m \u001b[1m7s\u001b[0m 4ms/step - accuracy: 0.7579 - loss: 0.7024 - val_accuracy: 0.8430 - val_loss: 0.4477\n",
            "Epoch 2/10\n",
            "\u001b[1m1688/1688\u001b[0m \u001b[32m━━━━━━━━━━━━━━━━━━━━\u001b[0m\u001b[37m\u001b[0m \u001b[1m5s\u001b[0m 3ms/step - accuracy: 0.8552 - loss: 0.4079 - val_accuracy: 0.8558 - val_loss: 0.3915\n",
            "Epoch 3/10\n",
            "\u001b[1m1688/1688\u001b[0m \u001b[32m━━━━━━━━━━━━━━━━━━━━\u001b[0m\u001b[37m\u001b[0m \u001b[1m6s\u001b[0m 3ms/step - accuracy: 0.8651 - loss: 0.3727 - val_accuracy: 0.8692 - val_loss: 0.3745\n",
            "Epoch 4/10\n",
            "\u001b[1m1688/1688\u001b[0m \u001b[32m━━━━━━━━━━━━━━━━━━━━\u001b[0m\u001b[37m\u001b[0m \u001b[1m9s\u001b[0m 3ms/step - accuracy: 0.8732 - loss: 0.3503 - val_accuracy: 0.8625 - val_loss: 0.3824\n",
            "Epoch 5/10\n",
            "\u001b[1m1688/1688\u001b[0m \u001b[32m━━━━━━━━━━━━━━━━━━━━\u001b[0m\u001b[37m\u001b[0m \u001b[1m6s\u001b[0m 3ms/step - accuracy: 0.8816 - loss: 0.3243 - val_accuracy: 0.8725 - val_loss: 0.3404\n",
            "Epoch 6/10\n",
            "\u001b[1m1688/1688\u001b[0m \u001b[32m━━━━━━━━━━━━━━━━━━━━\u001b[0m\u001b[37m\u001b[0m \u001b[1m5s\u001b[0m 3ms/step - accuracy: 0.8884 - loss: 0.3068 - val_accuracy: 0.8708 - val_loss: 0.3601\n",
            "Epoch 7/10\n",
            "\u001b[1m1688/1688\u001b[0m \u001b[32m━━━━━━━━━━━━━━━━━━━━\u001b[0m\u001b[37m\u001b[0m \u001b[1m6s\u001b[0m 4ms/step - accuracy: 0.8902 - loss: 0.3016 - val_accuracy: 0.8800 - val_loss: 0.3408\n",
            "Epoch 8/10\n",
            "\u001b[1m1688/1688\u001b[0m \u001b[32m━━━━━━━━━━━━━━━━━━━━\u001b[0m\u001b[37m\u001b[0m \u001b[1m5s\u001b[0m 3ms/step - accuracy: 0.8953 - loss: 0.2846 - val_accuracy: 0.8795 - val_loss: 0.3341\n",
            "Epoch 9/10\n",
            "\u001b[1m1688/1688\u001b[0m \u001b[32m━━━━━━━━━━━━━━━━━━━━\u001b[0m\u001b[37m\u001b[0m \u001b[1m11s\u001b[0m 3ms/step - accuracy: 0.8998 - loss: 0.2747 - val_accuracy: 0.8785 - val_loss: 0.3368\n",
            "Epoch 10/10\n",
            "\u001b[1m1688/1688\u001b[0m \u001b[32m━━━━━━━━━━━━━━━━━━━━\u001b[0m\u001b[37m\u001b[0m \u001b[1m5s\u001b[0m 3ms/step - accuracy: 0.9005 - loss: 0.2721 - val_accuracy: 0.8818 - val_loss: 0.3364\n"
          ]
        },
        {
          "output_type": "execute_result",
          "data": {
            "text/plain": [
              "<keras.src.callbacks.history.History at 0x7ebb89698590>"
            ]
          },
          "metadata": {},
          "execution_count": 25
        }
      ]
    },
    {
      "cell_type": "markdown",
      "source": [
        "Результат тестовых данных второй архитектуры"
      ],
      "metadata": {
        "id": "aZOfileWf5Rz"
      }
    },
    {
      "cell_type": "code",
      "source": [
        "test_acc = model2.evaluate(x_test, y_test)\n",
        "print(test_acc)"
      ],
      "metadata": {
        "colab": {
          "base_uri": "https://localhost:8080/"
        },
        "id": "KDzx3-2DgDDx",
        "outputId": "0e1bef09-1114-4027-ccc5-da797f735a72"
      },
      "execution_count": 26,
      "outputs": [
        {
          "output_type": "stream",
          "name": "stdout",
          "text": [
            "\u001b[1m313/313\u001b[0m \u001b[32m━━━━━━━━━━━━━━━━━━━━\u001b[0m\u001b[37m\u001b[0m \u001b[1m1s\u001b[0m 2ms/step - accuracy: 0.8762 - loss: 0.3496\n",
            "[0.3563210070133209, 0.8748999834060669]\n"
          ]
        }
      ]
    },
    {
      "cell_type": "markdown",
      "source": [
        "Архитектура три"
      ],
      "metadata": {
        "id": "liob8seBhKyX"
      }
    },
    {
      "cell_type": "code",
      "source": [
        "model3 = Sequential()\n",
        "model3.add(Dense(50, input_dim=784, activation='relu'))\n",
        "model3.add(Dense(50, activation='relu'))\n",
        "model3.add(Dense(10, activation='softmax'))\n",
        "model3.compile(loss='categorical_crossentropy', optimizer='adam',\n",
        "metrics=['accuracy'])\n",
        "model3.fit(x_train, y_train, epochs=10, validation_split=0.1)"
      ],
      "metadata": {
        "colab": {
          "base_uri": "https://localhost:8080/"
        },
        "id": "dWUlNa-_hASa",
        "outputId": "b25bd761-2baf-4e6f-ca0c-30d7fb24ee25"
      },
      "execution_count": 27,
      "outputs": [
        {
          "output_type": "stream",
          "name": "stdout",
          "text": [
            "Epoch 1/10\n",
            "\u001b[1m1688/1688\u001b[0m \u001b[32m━━━━━━━━━━━━━━━━━━━━\u001b[0m\u001b[37m\u001b[0m \u001b[1m6s\u001b[0m 3ms/step - accuracy: 0.7592 - loss: 0.7037 - val_accuracy: 0.8422 - val_loss: 0.4269\n",
            "Epoch 2/10\n",
            "\u001b[1m1688/1688\u001b[0m \u001b[32m━━━━━━━━━━━━━━━━━━━━\u001b[0m\u001b[37m\u001b[0m \u001b[1m6s\u001b[0m 4ms/step - accuracy: 0.8575 - loss: 0.3974 - val_accuracy: 0.8647 - val_loss: 0.3691\n",
            "Epoch 3/10\n",
            "\u001b[1m1688/1688\u001b[0m \u001b[32m━━━━━━━━━━━━━━━━━━━━\u001b[0m\u001b[37m\u001b[0m \u001b[1m5s\u001b[0m 3ms/step - accuracy: 0.8707 - loss: 0.3540 - val_accuracy: 0.8660 - val_loss: 0.3663\n",
            "Epoch 4/10\n",
            "\u001b[1m1688/1688\u001b[0m \u001b[32m━━━━━━━━━━━━━━━━━━━━\u001b[0m\u001b[37m\u001b[0m \u001b[1m6s\u001b[0m 4ms/step - accuracy: 0.8786 - loss: 0.3267 - val_accuracy: 0.8697 - val_loss: 0.3598\n",
            "Epoch 5/10\n",
            "\u001b[1m1688/1688\u001b[0m \u001b[32m━━━━━━━━━━━━━━━━━━━━\u001b[0m\u001b[37m\u001b[0m \u001b[1m10s\u001b[0m 3ms/step - accuracy: 0.8856 - loss: 0.3095 - val_accuracy: 0.8722 - val_loss: 0.3492\n",
            "Epoch 6/10\n",
            "\u001b[1m1688/1688\u001b[0m \u001b[32m━━━━━━━━━━━━━━━━━━━━\u001b[0m\u001b[37m\u001b[0m \u001b[1m10s\u001b[0m 3ms/step - accuracy: 0.8927 - loss: 0.2945 - val_accuracy: 0.8778 - val_loss: 0.3404\n",
            "Epoch 7/10\n",
            "\u001b[1m1688/1688\u001b[0m \u001b[32m━━━━━━━━━━━━━━━━━━━━\u001b[0m\u001b[37m\u001b[0m \u001b[1m10s\u001b[0m 3ms/step - accuracy: 0.8933 - loss: 0.2866 - val_accuracy: 0.8700 - val_loss: 0.3568\n",
            "Epoch 8/10\n",
            "\u001b[1m1688/1688\u001b[0m \u001b[32m━━━━━━━━━━━━━━━━━━━━\u001b[0m\u001b[37m\u001b[0m \u001b[1m6s\u001b[0m 3ms/step - accuracy: 0.8982 - loss: 0.2735 - val_accuracy: 0.8788 - val_loss: 0.3326\n",
            "Epoch 9/10\n",
            "\u001b[1m1688/1688\u001b[0m \u001b[32m━━━━━━━━━━━━━━━━━━━━\u001b[0m\u001b[37m\u001b[0m \u001b[1m5s\u001b[0m 3ms/step - accuracy: 0.9007 - loss: 0.2698 - val_accuracy: 0.8833 - val_loss: 0.3280\n",
            "Epoch 10/10\n",
            "\u001b[1m1688/1688\u001b[0m \u001b[32m━━━━━━━━━━━━━━━━━━━━\u001b[0m\u001b[37m\u001b[0m \u001b[1m6s\u001b[0m 3ms/step - accuracy: 0.9031 - loss: 0.2570 - val_accuracy: 0.8713 - val_loss: 0.3617\n"
          ]
        },
        {
          "output_type": "execute_result",
          "data": {
            "text/plain": [
              "<keras.src.callbacks.history.History at 0x7ebb68625dd0>"
            ]
          },
          "metadata": {},
          "execution_count": 27
        }
      ]
    },
    {
      "cell_type": "markdown",
      "source": [
        "Результат тестовых даных"
      ],
      "metadata": {
        "id": "bhCdGFABhSvP"
      }
    },
    {
      "cell_type": "code",
      "source": [
        "test_acc = model3.evaluate(x_test, y_test)\n",
        "print(test_acc)"
      ],
      "metadata": {
        "colab": {
          "base_uri": "https://localhost:8080/"
        },
        "id": "GzdhB8DZhYcG",
        "outputId": "eeb01f3c-60ad-4de5-b766-3e7bf004b6bb"
      },
      "execution_count": 28,
      "outputs": [
        {
          "output_type": "stream",
          "name": "stdout",
          "text": [
            "\u001b[1m313/313\u001b[0m \u001b[32m━━━━━━━━━━━━━━━━━━━━\u001b[0m\u001b[37m\u001b[0m \u001b[1m1s\u001b[0m 2ms/step - accuracy: 0.8712 - loss: 0.3710\n",
            "[0.37615859508514404, 0.8698999881744385]\n"
          ]
        }
      ]
    },
    {
      "cell_type": "markdown",
      "source": [
        "Сверточная нейроная сеть"
      ],
      "metadata": {
        "id": "v0RSoT_yhg3b"
      }
    },
    {
      "cell_type": "code",
      "source": [
        "from tensorflow.keras.layers import Conv2D, MaxPooling2D, Flatten\n",
        "import numpy as np\n",
        "(x_train, y_train), (x_test, y_test) = fashion_mnist.load_data()\n",
        "x_train = x_train[:,:,:,np.newaxis] / 255.0\n",
        "x_test = x_test[:,:,:,np.newaxis] / 255.0\n",
        "y_train = to_categorical(y_train)\n",
        "y_test = to_categorical(y_test)"
      ],
      "metadata": {
        "id": "-a94SYnGh1pd"
      },
      "execution_count": 29,
      "outputs": []
    },
    {
      "cell_type": "markdown",
      "source": [
        "Архитектура четвертая"
      ],
      "metadata": {
        "id": "a9_zNyjiiIzh"
      }
    },
    {
      "cell_type": "code",
      "source": [
        "model4 = Sequential()\n",
        "model4.add(Conv2D(filters=64, kernel_size=2, padding='same',\n",
        "activation='relu', input_shape=(28,28, 1)))\n",
        "model4.add(MaxPooling2D(pool_size=2))\n",
        "model4.add(Flatten())\n",
        "model4.add(Dense(10, activation='softmax'))\n",
        "model4.compile(loss='categorical_crossentropy', optimizer='adam',\n",
        "metrics=['accuracy'])\n",
        "model4.fit(x_train, y_train, epochs=10, validation_split=0.1)"
      ],
      "metadata": {
        "colab": {
          "base_uri": "https://localhost:8080/"
        },
        "id": "uemCBHYmiNfi",
        "outputId": "d8be311d-b6ef-4608-b028-147dbe2dfa80"
      },
      "execution_count": 30,
      "outputs": [
        {
          "output_type": "stream",
          "name": "stderr",
          "text": [
            "/usr/local/lib/python3.11/dist-packages/keras/src/layers/convolutional/base_conv.py:107: UserWarning: Do not pass an `input_shape`/`input_dim` argument to a layer. When using Sequential models, prefer using an `Input(shape)` object as the first layer in the model instead.\n",
            "  super().__init__(activity_regularizer=activity_regularizer, **kwargs)\n"
          ]
        },
        {
          "output_type": "stream",
          "name": "stdout",
          "text": [
            "Epoch 1/10\n",
            "\u001b[1m1688/1688\u001b[0m \u001b[32m━━━━━━━━━━━━━━━━━━━━\u001b[0m\u001b[37m\u001b[0m \u001b[1m46s\u001b[0m 26ms/step - accuracy: 0.8014 - loss: 0.5779 - val_accuracy: 0.8853 - val_loss: 0.3402\n",
            "Epoch 2/10\n",
            "\u001b[1m1688/1688\u001b[0m \u001b[32m━━━━━━━━━━━━━━━━━━━━\u001b[0m\u001b[37m\u001b[0m \u001b[1m44s\u001b[0m 26ms/step - accuracy: 0.8934 - loss: 0.3034 - val_accuracy: 0.8938 - val_loss: 0.3045\n",
            "Epoch 3/10\n",
            "\u001b[1m1688/1688\u001b[0m \u001b[32m━━━━━━━━━━━━━━━━━━━━\u001b[0m\u001b[37m\u001b[0m \u001b[1m83s\u001b[0m 26ms/step - accuracy: 0.9010 - loss: 0.2825 - val_accuracy: 0.8978 - val_loss: 0.2933\n",
            "Epoch 4/10\n",
            "\u001b[1m1688/1688\u001b[0m \u001b[32m━━━━━━━━━━━━━━━━━━━━\u001b[0m\u001b[37m\u001b[0m \u001b[1m78s\u001b[0m 24ms/step - accuracy: 0.9103 - loss: 0.2526 - val_accuracy: 0.9033 - val_loss: 0.2748\n",
            "Epoch 5/10\n",
            "\u001b[1m1688/1688\u001b[0m \u001b[32m━━━━━━━━━━━━━━━━━━━━\u001b[0m\u001b[37m\u001b[0m \u001b[1m42s\u001b[0m 25ms/step - accuracy: 0.9171 - loss: 0.2333 - val_accuracy: 0.9027 - val_loss: 0.2798\n",
            "Epoch 6/10\n",
            "\u001b[1m1688/1688\u001b[0m \u001b[32m━━━━━━━━━━━━━━━━━━━━\u001b[0m\u001b[37m\u001b[0m \u001b[1m82s\u001b[0m 25ms/step - accuracy: 0.9199 - loss: 0.2247 - val_accuracy: 0.9025 - val_loss: 0.2800\n",
            "Epoch 7/10\n",
            "\u001b[1m1688/1688\u001b[0m \u001b[32m━━━━━━━━━━━━━━━━━━━━\u001b[0m\u001b[37m\u001b[0m \u001b[1m82s\u001b[0m 25ms/step - accuracy: 0.9271 - loss: 0.2072 - val_accuracy: 0.9050 - val_loss: 0.2727\n",
            "Epoch 8/10\n",
            "\u001b[1m1688/1688\u001b[0m \u001b[32m━━━━━━━━━━━━━━━━━━━━\u001b[0m\u001b[37m\u001b[0m \u001b[1m42s\u001b[0m 25ms/step - accuracy: 0.9307 - loss: 0.1950 - val_accuracy: 0.9027 - val_loss: 0.2800\n",
            "Epoch 9/10\n",
            "\u001b[1m1688/1688\u001b[0m \u001b[32m━━━━━━━━━━━━━━━━━━━━\u001b[0m\u001b[37m\u001b[0m \u001b[1m82s\u001b[0m 25ms/step - accuracy: 0.9335 - loss: 0.1854 - val_accuracy: 0.9107 - val_loss: 0.2680\n",
            "Epoch 10/10\n",
            "\u001b[1m1688/1688\u001b[0m \u001b[32m━━━━━━━━━━━━━━━━━━━━\u001b[0m\u001b[37m\u001b[0m \u001b[1m43s\u001b[0m 25ms/step - accuracy: 0.9371 - loss: 0.1769 - val_accuracy: 0.9065 - val_loss: 0.2802\n"
          ]
        },
        {
          "output_type": "execute_result",
          "data": {
            "text/plain": [
              "<keras.src.callbacks.history.History at 0x7ebb69d82ad0>"
            ]
          },
          "metadata": {},
          "execution_count": 30
        }
      ]
    },
    {
      "cell_type": "markdown",
      "source": [
        "Результат тестовых данных"
      ],
      "metadata": {
        "id": "AfjpJV4Ji0ek"
      }
    },
    {
      "cell_type": "code",
      "source": [
        "test_acc = model4.evaluate(x_test, y_test)\n",
        "print(test_acc)"
      ],
      "metadata": {
        "colab": {
          "base_uri": "https://localhost:8080/"
        },
        "id": "OfMfKBlMi5jE",
        "outputId": "4d40487b-3a4d-419d-94b1-3c500b57c839"
      },
      "execution_count": 31,
      "outputs": [
        {
          "output_type": "stream",
          "name": "stdout",
          "text": [
            "\u001b[1m313/313\u001b[0m \u001b[32m━━━━━━━━━━━━━━━━━━━━\u001b[0m\u001b[37m\u001b[0m \u001b[1m3s\u001b[0m 8ms/step - accuracy: 0.9007 - loss: 0.2907\n",
            "[0.2921716570854187, 0.8980000019073486]\n"
          ]
        }
      ]
    },
    {
      "cell_type": "markdown",
      "source": [
        "Индивидуальное задание номер 9"
      ],
      "metadata": {
        "id": "pGC9q1IumArQ"
      }
    },
    {
      "cell_type": "code",
      "source": [
        "import numpy as np\n",
        "import random"
      ],
      "metadata": {
        "id": "mIjZdXwimM6X"
      },
      "execution_count": 32,
      "outputs": []
    },
    {
      "cell_type": "markdown",
      "source": [
        "Входные данные\n",
        "Архитектура 2-4-2\n",
        "Скорость обучения 0,35\n",
        "Входные вектор X={0.1 -0.1}\n",
        "Матрицы синапсов 1 и 2 слоя Начальные значения весов взять произвольным образом из интервала [-0.3, 0.3]\n",
        "Эталонный вход Y= {0.5; -0.5}"
      ],
      "metadata": {
        "id": "EaU4yTAgnSN8"
      }
    },
    {
      "cell_type": "code",
      "source": [
        "# Функция активации: логистический сигмоид\n",
        "def sigmoid(x):\n",
        "    return 1 / (1 + np.exp(-x))\n",
        "\n",
        "# Производная функции активации: сигмоид\n",
        "def sigmoid_derivative(x):\n",
        "    return x * (1 - x)\n",
        "\n",
        "# Параметры нейронной сети\n",
        "input_size = 2  # Количество входов\n",
        "hidden_size = 4  # Количество нейронов в скрытом слое\n",
        "output_size = 2  # Количество выходов\n",
        "learning_rate = 0.35\n",
        "\n",
        "# Инициализация весов случайными значениями в диапазоне от -0.3 до 0.3\n",
        "np.random.seed(42)  # Для воспроизводимости\n",
        "weights_input_hidden = np.random.uniform(-0.3, 0.3, (input_size, hidden_size))\n",
        "weights_hidden_output = np.random.uniform(-0.3, 0.3, (hidden_size, output_size))\n",
        "\n",
        "# Входной вектор\n",
        "X = np.array([[0.1], [-0.1]])\n",
        "# Эталонный выход\n",
        "Y = np.array([[0.5], [-0.5]])"
      ],
      "metadata": {
        "id": "Ds0lTZ6Rnpjd"
      },
      "execution_count": 36,
      "outputs": []
    },
    {
      "cell_type": "markdown",
      "source": [
        "Обучение сети"
      ],
      "metadata": {
        "id": "axiD5lcRLyGq"
      }
    },
    {
      "cell_type": "code",
      "source": [
        "for epoch in range(10000):  # Количество эпох\n",
        "\n",
        "    hidden_input = np.dot(X.T, weights_input_hidden)  # Входы в скрытый слой\n",
        "    hidden_output = sigmoid(hidden_input)  # Выходы скрытого слоя\n",
        "\n",
        "    output_input = np.dot(hidden_output, weights_hidden_output)  # Входы в выходной слой\n",
        "    output_output = sigmoid(output_input)  # Выходы сети"
      ],
      "metadata": {
        "id": "Z-wCJcG8L2ke"
      },
      "execution_count": 37,
      "outputs": []
    },
    {
      "cell_type": "markdown",
      "source": [
        "Расчет ошибки и обнавление весов"
      ],
      "metadata": {
        "id": "pCfoLrgRNBRi"
      }
    },
    {
      "cell_type": "code",
      "source": [
        "error = Y - output_output  # Ошибка на выходе\n",
        "if epoch % 1000 == 0:  # Печать ошибки каждые 1000 эпох\n",
        "        print(f\"Epoch {epoch}, Error: {np.mean(np.abs(error))}\")\n",
        "\n",
        "    # Обратное распространение ошибки\n",
        "d_output = error * sigmoid_derivative(output_output)  # Градиент для выходного слоя\n",
        "error_hidden = d_output.dot(weights_hidden_output.T)  # Ошибка в скрытом слое\n",
        "d_hidden = error_hidden * sigmoid_derivative(hidden_output)  # Градиент для скрытого слоя\n"
      ],
      "metadata": {
        "id": "kFVToLWnNRkU"
      },
      "execution_count": 41,
      "outputs": []
    },
    {
      "cell_type": "markdown",
      "source": [
        "Итог"
      ],
      "metadata": {
        "id": "Iqm5sOx0N3ng"
      }
    },
    {
      "cell_type": "code",
      "source": [
        "print(\"Весовая матрица между входным слоем и скрытым слоем:\")\n",
        "print(weights_input_hidden)\n",
        "\n",
        "print(\"Весовая матрица между скрытым слоем и выходным слоем:\")\n",
        "print(weights_hidden_output)\n",
        "\n",
        "print(\"Финальный выход нейросети:\")\n",
        "print(output_output)"
      ],
      "metadata": {
        "colab": {
          "base_uri": "https://localhost:8080/"
        },
        "id": "3St1va7SN61p",
        "outputId": "96f685dc-cc26-426b-e405-f5c8eca3fad5"
      },
      "execution_count": 42,
      "outputs": [
        {
          "output_type": "stream",
          "name": "stdout",
          "text": [
            "Весовая матрица между входным слоем и скрытым слоем:\n",
            "[[-0.07527593  0.27042858  0.13919637  0.05919509]\n",
            " [-0.20638882 -0.20640329 -0.26514983  0.21970569]]\n",
            "Весовая матрица между скрытым слоем и выходным слоем:\n",
            "[[ 0.06066901  0.12484355]\n",
            " [-0.2876493   0.28194591]\n",
            " [ 0.19946558 -0.17259653]\n",
            " [-0.19090502 -0.18995729]]\n",
            "Финальный выход нейросети:\n",
            "[[0.47261312 0.50622597]]\n"
          ]
        }
      ]
    }
  ]
}